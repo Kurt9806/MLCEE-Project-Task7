{
  "nbformat": 4,
  "nbformat_minor": 0,
  "metadata": {
    "colab": {
      "name": "Copy of EDA Task 7",
      "provenance": [],
      "collapsed_sections": [],
      "include_colab_link": true
    },
    "kernelspec": {
      "name": "python3",
      "display_name": "Python 3"
    },
    "language_info": {
      "name": "python"
    },
    "accelerator": "GPU"
  },
  "cells": [
    {
      "cell_type": "markdown",
      "metadata": {
        "id": "view-in-github",
        "colab_type": "text"
      },
      "source": [
        "<a href=\"https://colab.research.google.com/github/Kurt9806/MLCEE-Project-Task7/blob/main/Copy_of_EDA_Task_7.ipynb\" target=\"_parent\"><img src=\"https://colab.research.google.com/assets/colab-badge.svg\" alt=\"Open In Colab\"/></a>"
      ]
    },
    {
      "cell_type": "code",
      "execution_count": 1,
      "metadata": {
        "id": "NX3H5mOTFyV3"
      },
      "outputs": [],
      "source": [
        "import numpy as np\n",
        "import pandas as pd\n",
        "import os\n",
        "import matplotlib.pyplot as plt\n",
        "from PIL import Image\n",
        "#edit"
      ]
    },
    {
      "cell_type": "code",
      "source": [
        "from google.colab import drive\n",
        "drive.mount('/content/drive')"
      ],
      "metadata": {
        "id": "cHUpsq6lHELy",
        "colab": {
          "base_uri": "https://localhost:8080/"
        },
        "outputId": "8fb38317-2c9e-4bbb-d0db-e6bec73b6bbb"
      },
      "execution_count": 2,
      "outputs": [
        {
          "output_type": "stream",
          "name": "stdout",
          "text": [
            "Mounted at /content/drive\n"
          ]
        }
      ]
    },
    {
      "cell_type": "code",
      "source": [
        "data_train = np.load('/content/drive/MyDrive/Machine Learning Project/task7_X_train.npy').astype(np.uint8)\n",
        "data_test = np.load('/content/drive/MyDrive/Machine Learning Project/task7_X_test.npy').astype(np.uint8)\n",
        "y_train = np.load('/content/drive/MyDrive/Machine Learning Project/task7_y_train.npy')\n",
        "y_test = np.load('/content/drive/MyDrive/Machine Learning Project/task7_y_test.npy')\n"
      ],
      "metadata": {
        "id": "wVf_SKsaHBJ6"
      },
      "execution_count": 3,
      "outputs": []
    },
    {
      "cell_type": "code",
      "source": [
        "'train_' + str(0)"
      ],
      "metadata": {
        "colab": {
          "base_uri": "https://localhost:8080/",
          "height": 35
        },
        "id": "rjDUykeHjlVo",
        "outputId": "49221bc9-066b-44c3-ead5-45b1580996ed"
      },
      "execution_count": 4,
      "outputs": [
        {
          "output_type": "execute_result",
          "data": {
            "text/plain": [
              "'train_0'"
            ],
            "application/vnd.google.colaboratory.intrinsic+json": {
              "type": "string"
            }
          },
          "metadata": {},
          "execution_count": 4
        }
      ]
    },
    {
      "cell_type": "code",
      "source": [
        "# Loop to change each array to image\n",
        "\n",
        "for i in range(y_train.size):\n",
        "  name = 'train_' + str(i)\n"
      ],
      "metadata": {
        "id": "ICSApMCOF_Xj"
      },
      "execution_count": 5,
      "outputs": []
    },
    {
      "cell_type": "markdown",
      "source": [
        "# Exploratory Data Analysis"
      ],
      "metadata": {
        "id": "c6DsCw1LdkJ7"
      }
    },
    {
      "cell_type": "code",
      "source": [
        "# Looking distribution of data\n",
        "labels_train = pd.DataFrame(y_train, columns=['Heavy damage','Minor damage','Moderate damage','Undamaged'])\n",
        "labels_test = pd.DataFrame(y_test, columns=['Heavy damage','Minor damage','Moderate damage','Undamaged'])"
      ],
      "metadata": {
        "id": "G1Hv2NOlaDyv"
      },
      "execution_count": 6,
      "outputs": []
    },
    {
      "cell_type": "code",
      "source": [
        "print(labels_test)"
      ],
      "metadata": {
        "colab": {
          "base_uri": "https://localhost:8080/"
        },
        "id": "xrwtrMavUBmf",
        "outputId": "1dcd1351-22ad-48f0-c209-534f3c8c76ef"
      },
      "execution_count": 85,
      "outputs": [
        {
          "output_type": "stream",
          "name": "stdout",
          "text": [
            "     Heavy damage  Minor damage  Moderate damage  Undamaged\n",
            "0             1.0           0.0              0.0        0.0\n",
            "1             1.0           0.0              0.0        0.0\n",
            "2             1.0           0.0              0.0        0.0\n",
            "3             1.0           0.0              0.0        0.0\n",
            "4             1.0           0.0              0.0        0.0\n",
            "..            ...           ...              ...        ...\n",
            "493           0.0           0.0              0.0        1.0\n",
            "494           0.0           0.0              0.0        1.0\n",
            "495           0.0           0.0              0.0        1.0\n",
            "496           0.0           0.0              0.0        1.0\n",
            "497           0.0           0.0              0.0        1.0\n",
            "\n",
            "[498 rows x 4 columns]\n"
          ]
        }
      ]
    },
    {
      "cell_type": "code",
      "source": [
        "plt.bar(list(labels_train), labels_train.sum(axis=0))\n",
        "plt.bar(list(labels_test), labels_test.sum(axis=0))\n",
        "\n",
        "plt.title('Class Frequency')\n",
        "plt.xlabel('Class')\n",
        "plt.xticks(rotation=45)\n",
        "plt.ylabel('Frequency')\n",
        "plt.savefig('saved_figure-300pi.png', dpi=300, bbox_inches='tight')\n",
        "plt.show()"
      ],
      "metadata": {
        "colab": {
          "base_uri": "https://localhost:8080/",
          "height": 357
        },
        "id": "6r1yU2coaYAM",
        "outputId": "e67271de-ebf8-46f7-9a0b-813831092b41"
      },
      "execution_count": 84,
      "outputs": [
        {
          "output_type": "display_data",
          "data": {
            "text/plain": [
              "<Figure size 432x288 with 1 Axes>"
            ],
            "image/png": "[encoded data removed]"
          },
          "metadata": {
            "needs_background": "light"
          }
        }
      ]
    },
    {
      "cell_type": "markdown",
      "source": [
        "# BaseLine\n"
      ],
      "metadata": {
        "id": "Jsl29TdKd6Wx"
      }
    },
    {
      "cell_type": "code",
      "source": [
        "from tqdm import tqdm\n",
        "from torchvision import transforms\n",
        "from sklearn import svm\n",
        "import pandas as pd\n",
        "\n",
        "os.environ['CUDA_LAUNCH_BLOCKING'] = \"1\"\n",
        "import torch\n",
        "import torch.nn as nn"
      ],
      "metadata": {
        "id": "rv-3P3NFd688"
      },
      "execution_count": 8,
      "outputs": []
    },
    {
      "cell_type": "code",
      "source": [
        "#If there is a GPU avaiable for computations, we want to use it (else we will use a CPU)\n",
        "device = torch.device(\"cuda:0\" if torch.cuda.is_available() else \"cpu\")\n",
        "print(device)"
      ],
      "metadata": {
        "colab": {
          "base_uri": "https://localhost:8080/"
        },
        "id": "7zIdkdvQfedI",
        "outputId": "702018a4-e0fc-40fd-c78f-fc1d8faf73f4"
      },
      "execution_count": 9,
      "outputs": [
        {
          "output_type": "stream",
          "name": "stdout",
          "text": [
            "cuda:0\n"
          ]
        }
      ]
    },
    {
      "cell_type": "code",
      "source": [
        "class Dataset(torch.utils.data.Dataset):\n",
        "    def __init__(self, X, y):\n",
        "        \"\"\"\n",
        "        input: \n",
        "        'cracked_images_path': This corresponds to the path of images with cracks on your PC or Google drive\n",
        "        'uncracked_images_path': This corresponds to the path of images without cracks on your PC or Google drive\n",
        "        \n",
        "        Output: None required (you don't need a return line)\n",
        "        \n",
        "        To implement: Define variables that you can use in other methods within this class. This are several ways of\n",
        "        approaching this. Suggested way is to define 5 variables: self.cracked_path, self.uncracked_path,\n",
        "        self.file_names_cracked, self.file_names_uncracked and self.preprocess\n",
        "        \n",
        "        You can obtain all filenames within a given folder using the 'glob' subroutine in python. This subroutine can\n",
        "        identify all files that have a similar looking filename.\n",
        "        \n",
        "        self.preprocess is a composition of transforms that will preprocess a given image. Implement at least these \n",
        "        transforms: (1) Resize the images to a size that the pretrained networks (ResNet18) will accept (2) Convert the image to \n",
        "        a tensor and, (3) Normalize the tensor using the mean and standard deviation of training examples used to train the ResNet network. \n",
        "        You can get these values when you look at ResNET's documentation on the Pytorch's website.\n",
        "        Refer to torchvision.transforms.compose \n",
        "        \n",
        "        You can implement additional transforms that will augment your training data like random horizontal or vertical flip\n",
        "        \"\"\"\n",
        "        #You code after this line\n",
        "        self.X = X.astype(np.uint8)\n",
        "\n",
        "        #self.X = torch.from_numpy(X.astype(np.uint8))\n",
        "\n",
        "        self.X = self.X[:,[1,2,0]]\n",
        "        self.y = torch.from_numpy(y)\n",
        "\n",
        "        # Transformations\n",
        "        self.transform = transforms.Compose([transforms.Resize((224,224)),transforms.ToTensor(),transforms.Normalize(mean=[0.485, 0.456, 0.406],std=[0.229, 0.224, 0.225])])\n",
        "\n",
        "        # Combine data\n",
        "        data = []\n",
        "        N = X.shape[0]\n",
        "        for i in range(N):\n",
        "          data.append([np.argmax(self.y[i]).float(), self.X[i]])\n",
        "        \n",
        "        self.dataset = pd.DataFrame(data, columns=['Label', 'Image_array'])\n",
        "\n",
        "    def __len__(self):\n",
        "        \"\"\"\n",
        "        ouput: Length of the entire dataset using the variables defined in __init__ method\n",
        "        \"\"\"\n",
        "        \n",
        "        #You code after this line\n",
        "        length_of_entire_dataset = self.dataset.shape[0]\n",
        "        \n",
        "        return length_of_entire_dataset\n",
        "\n",
        "    def __getitem__(self, i):\n",
        "        \"\"\"\n",
        "        Input: 'i': Integer. The ith example within the example set\n",
        "        \n",
        "        Output: tensor_image: Tensor of size (3,224,224) (image corresponding to the ith example).\n",
        "        For a given 'i', import image using the path, filename and the Image module (from PIL library). Then use\n",
        "        self.preprocess.\n",
        "        \n",
        "        label: Integer: '0' or '1' (0 for an uncracked image and 1 for a cracked image)\n",
        "        \"\"\"\n",
        "        #You code after this line\n",
        "        img_array = self.dataset.iloc[i, 1]\n",
        "        # Open Image \n",
        "        image = Image.fromarray(img_array)\n",
        "\n",
        "        # Extract the label\n",
        "        label = self.dataset.iloc[i,0]\n",
        "\n",
        "        # Preprocessing\n",
        "        if self.transform:\n",
        "          tensor_image = self.transform(image)\n",
        "\n",
        "        return tensor_image,label"
      ],
      "metadata": {
        "id": "zHErxHBXe6bv"
      },
      "execution_count": 10,
      "outputs": []
    },
    {
      "cell_type": "code",
      "source": [
        "#Do not edit this cell\n",
        "#Here we are creating an insatance of the 'CEE498_Concrete_dataset' class you defined for the\n",
        "#Training set\n",
        "train_dataset=Dataset(data_train,y_train)\n",
        "#This line defines a dataloader that will use the the instance 'train_dataset' and combines multiple examples \n",
        "#to form a mini batch of size 'batch_size'\n",
        "train_dataloader=torch.utils.data.DataLoader(train_dataset, batch_size=10, shuffle=True)\n",
        "\n",
        "#Here we are creating an insatance of the 'CEE498_Concrete_dataset' class you defined for the\n",
        "#Test set\n",
        "test_dataset=Dataset(data_test,y_test)\n",
        "#This line defines a dataloader that will use the the instance 'test_dataset' and combines multiple examples \n",
        "#to form a mini batch of size 'batch_size'\n",
        "test_dataloader=torch.utils.data.DataLoader(test_dataset, batch_size=10, shuffle=True)"
      ],
      "metadata": {
        "id": "zjZ8zQTjpAxy"
      },
      "execution_count": 11,
      "outputs": []
    },
    {
      "cell_type": "code",
      "source": [
        "next(iter(train_dataloader))"
      ],
      "metadata": {
        "colab": {
          "base_uri": "https://localhost:8080/"
        },
        "id": "82MNbnLUURu1",
        "outputId": "0c158a76-c4d7-4d69-84bc-8ec92e5c9190"
      },
      "execution_count": 90,
      "outputs": [
        {
          "output_type": "execute_result",
          "data": {
            "text/plain": [
              "[tensor([[[[-1.9638, -2.0494, -2.0494,  ..., -1.8610, -1.8439, -1.8268],\n",
              "           [-1.9638, -2.0494, -2.0494,  ..., -1.8610, -1.8439, -1.8268],\n",
              "           [-1.9638, -2.0494, -2.0494,  ..., -1.8610, -1.8439, -1.8268],\n",
              "           ...,\n",
              "           [-1.9467, -2.0494, -2.0323,  ..., -1.8439, -1.7754, -1.7412],\n",
              "           [-1.9467, -2.0494, -2.0323,  ..., -1.8439, -1.7754, -1.7412],\n",
              "           [-1.9467, -2.0494, -2.0323,  ..., -1.8439, -1.7754, -1.7412]],\n",
              " \n",
              "          [[ 2.4111,  2.3235,  2.3235,  ..., -2.0007, -1.9832, -1.9657],\n",
              "           [ 2.4111,  2.3235,  2.3235,  ..., -2.0007, -1.9832, -1.9657],\n",
              "           [ 2.4111,  2.3235,  2.3235,  ..., -2.0007, -1.9832, -1.9657],\n",
              "           ...,\n",
              "           [ 2.4286,  2.3235,  2.3410,  ..., -1.9832, -1.9132, -1.8782],\n",
              "           [ 2.4286,  2.3235,  2.3410,  ..., -1.9832, -1.9132, -1.8782],\n",
              "           [ 2.4286,  2.3235,  2.3410,  ..., -1.9832, -1.9132, -1.8782]],\n",
              " \n",
              "          [[ 2.4657,  2.3786,  2.3786,  ...,  2.5877,  2.6051,  2.6226],\n",
              "           [ 2.4657,  2.3786,  2.3786,  ...,  2.5877,  2.6051,  2.6226],\n",
              "           [ 2.4657,  2.3786,  2.3786,  ...,  2.5877,  2.6051,  2.6226],\n",
              "           ...,\n",
              "           [ 2.4831,  2.3786,  2.3960,  ...,  2.6051, -1.8044, -1.7696],\n",
              "           [ 2.4831,  2.3786,  2.3960,  ...,  2.6051, -1.8044, -1.7696],\n",
              "           [ 2.4831,  2.3786,  2.3960,  ...,  2.6051, -1.8044, -1.7696]]],\n",
              " \n",
              " \n",
              "         [[[-0.7993, -0.7993, -0.7993,  ..., -0.7650, -0.7650, -0.7650],\n",
              "           [-0.7993, -0.7993, -0.7993,  ..., -0.7650, -0.7650, -0.7650],\n",
              "           [-0.7993, -0.7993, -0.7993,  ..., -0.7650, -0.7650, -0.7650],\n",
              "           ...,\n",
              "           [-0.7993, -0.7993, -0.7993,  ..., -0.6965, -0.6794, -0.6794],\n",
              "           [-0.7993, -0.7993, -0.7993,  ..., -0.6965, -0.6794, -0.6794],\n",
              "           [-0.7993, -0.7993, -0.7993,  ..., -0.6965, -0.6794, -0.6794]],\n",
              " \n",
              "          [[-0.9153, -0.9153, -0.9153,  ..., -0.9678, -0.9678, -0.9678],\n",
              "           [-0.9153, -0.9153, -0.9153,  ..., -0.9678, -0.9678, -0.9678],\n",
              "           [-0.9153, -0.9153, -0.9153,  ..., -0.9678, -0.9678, -0.9678],\n",
              "           ...,\n",
              "           [-0.9153, -0.9153, -0.9153,  ..., -0.8978, -0.8803, -0.8803],\n",
              "           [-0.9153, -0.9153, -0.9153,  ..., -0.8978, -0.8803, -0.8803],\n",
              "           [-0.9153, -0.9153, -0.9153,  ..., -0.8978, -0.8803, -0.8803]],\n",
              " \n",
              "          [[-1.0201, -1.0201, -1.0201,  ..., -0.8458, -0.8458, -0.8458],\n",
              "           [-1.0201, -1.0201, -1.0201,  ..., -0.8458, -0.8458, -0.8458],\n",
              "           [-1.0201, -1.0201, -1.0201,  ..., -0.8458, -0.8458, -0.8458],\n",
              "           ...,\n",
              "           [-1.0201, -1.0201, -1.0201,  ..., -0.7761, -0.7587, -0.7587],\n",
              "           [-1.0201, -1.0201, -1.0201,  ..., -0.7761, -0.7587, -0.7587],\n",
              "           [-1.0201, -1.0201, -1.0201,  ..., -0.7761, -0.7587, -0.7587]]],\n",
              " \n",
              " \n",
              "         [[[ 1.1529,  1.1872,  1.2043,  ..., -0.7308, -0.9020, -1.1247],\n",
              "           [ 1.1529,  1.1872,  1.2043,  ..., -0.7308, -0.9020, -1.1247],\n",
              "           [ 1.1529,  1.1872,  1.2043,  ..., -0.7308, -0.9020, -1.1247],\n",
              "           ...,\n",
              "           [ 1.0673,  1.1529,  1.2214,  ..., -0.7822, -0.8678, -1.0048],\n",
              "           [ 1.0673,  1.1529,  1.2214,  ..., -0.7822, -0.8678, -1.0048],\n",
              "           [ 1.0673,  1.1529,  1.2214,  ..., -0.7822, -0.8678, -1.0048]],\n",
              " \n",
              "          [[ 1.1856,  1.2206,  1.2381,  ..., -0.6702, -0.8452, -1.0728],\n",
              "           [ 1.1856,  1.2206,  1.2381,  ..., -0.6702, -0.8452, -1.0728],\n",
              "           [ 1.1856,  1.2206,  1.2381,  ..., -0.6702, -0.8452, -1.0728],\n",
              "           ...,\n",
              "           [ 1.0980,  1.1856,  1.2556,  ..., -0.7227, -0.8102, -0.9503],\n",
              "           [ 1.0980,  1.1856,  1.2556,  ..., -0.7227, -0.8102, -0.9503],\n",
              "           [ 1.0980,  1.1856,  1.2556,  ..., -0.7227, -0.8102, -0.9503]],\n",
              " \n",
              "          [[ 1.2631,  1.2980,  1.3154,  ..., -0.5670, -0.7413, -0.9678],\n",
              "           [ 1.2631,  1.2980,  1.3154,  ..., -0.5670, -0.7413, -0.9678],\n",
              "           [ 1.2631,  1.2980,  1.3154,  ..., -0.5670, -0.7413, -0.9678],\n",
              "           ...,\n",
              "           [ 1.1759,  1.2631,  1.3328,  ..., -0.6193, -0.7064, -0.8458],\n",
              "           [ 1.1759,  1.2631,  1.3328,  ..., -0.6193, -0.7064, -0.8458],\n",
              "           [ 1.1759,  1.2631,  1.3328,  ..., -0.6193, -0.7064, -0.8458]]],\n",
              " \n",
              " \n",
              "         ...,\n",
              " \n",
              " \n",
              "         [[[-1.4329, -1.4500, -1.4500,  ...,  0.4679,  0.4679,  0.4679],\n",
              "           [-1.4329, -1.4500, -1.4500,  ...,  0.4679,  0.4679,  0.4679],\n",
              "           [-1.4329, -1.4500, -1.4500,  ...,  0.4679,  0.4679,  0.4679],\n",
              "           ...,\n",
              "           [-1.4329, -1.4500, -1.4500,  ...,  0.4679,  0.4337,  0.4679],\n",
              "           [-1.4329, -1.4500, -1.4500,  ...,  0.4679,  0.4337,  0.4679],\n",
              "           [-1.4329, -1.4500, -1.4500,  ...,  0.4679,  0.4337,  0.4679]],\n",
              " \n",
              "          [[-1.7556, -1.7731, -1.7731,  ...,  0.3277,  0.2752,  0.3277],\n",
              "           [-1.7556, -1.7731, -1.7731,  ...,  0.3277,  0.2752,  0.3277],\n",
              "           [-1.7556, -1.7731, -1.7731,  ...,  0.3277,  0.2752,  0.3277],\n",
              "           ...,\n",
              "           [-1.7556, -1.7731, -1.7731,  ...,  0.2927,  0.2402,  0.3277],\n",
              "           [-1.7556, -1.7731, -1.7731,  ...,  0.2927,  0.2402,  0.3277],\n",
              "           [-1.7556, -1.7731, -1.7731,  ...,  0.2927,  0.2402,  0.3277]],\n",
              " \n",
              "          [[-1.3687, -1.3861, -1.3861,  ...,  0.4439,  0.4614,  0.4788],\n",
              "           [-1.3687, -1.3861, -1.3861,  ...,  0.4439,  0.4614,  0.4788],\n",
              "           [-1.3687, -1.3861, -1.3861,  ...,  0.4439,  0.4614,  0.4788],\n",
              "           ...,\n",
              "           [-1.3687, -1.3861, -1.3861,  ...,  0.4439,  0.4265,  0.4788],\n",
              "           [-1.3687, -1.3861, -1.3861,  ...,  0.4439,  0.4265,  0.4788],\n",
              "           [-1.3687, -1.3861, -1.3861,  ...,  0.4439,  0.4265,  0.4788]]],\n",
              " \n",
              " \n",
              "         [[[ 1.4954,  1.4440,  1.4269,  ..., -1.4329, -1.4329, -1.4500],\n",
              "           [ 1.4954,  1.4440,  1.4269,  ..., -1.4329, -1.4329, -1.4500],\n",
              "           [ 1.4954,  1.4440,  1.4269,  ..., -1.4329, -1.4329, -1.4500],\n",
              "           ...,\n",
              "           [ 1.5125,  1.4612,  1.3927,  ..., -1.4158, -1.4329, -1.4329],\n",
              "           [ 1.5125,  1.4612,  1.3927,  ..., -1.4158, -1.4329, -1.4329],\n",
              "           [ 1.5125,  1.4612,  1.3927,  ..., -1.4158, -1.4329, -1.4329]],\n",
              " \n",
              "          [[ 1.3782,  1.2906,  1.2381,  ..., -1.7556, -1.7556, -1.7731],\n",
              "           [ 1.3782,  1.2906,  1.2381,  ..., -1.7556, -1.7556, -1.7731],\n",
              "           [ 1.3782,  1.2906,  1.2381,  ..., -1.7556, -1.7556, -1.7731],\n",
              "           ...,\n",
              "           [ 1.3957,  1.3081,  1.2381,  ..., -1.7381, -1.7556, -1.7556],\n",
              "           [ 1.3957,  1.3081,  1.2381,  ..., -1.7381, -1.7556, -1.7556],\n",
              "           [ 1.3957,  1.3081,  1.2381,  ..., -1.7381, -1.7556, -1.7556]],\n",
              " \n",
              "          [[ 1.4025,  1.3328,  1.2805,  ..., -1.7173, -1.7173, -1.7347],\n",
              "           [ 1.4025,  1.3328,  1.2805,  ..., -1.7173, -1.7173, -1.7347],\n",
              "           [ 1.4025,  1.3328,  1.2805,  ..., -1.7173, -1.7173, -1.7347],\n",
              "           ...,\n",
              "           [ 1.4200,  1.3502,  1.2805,  ..., -1.6999, -1.7173, -1.7173],\n",
              "           [ 1.4200,  1.3502,  1.2805,  ..., -1.6999, -1.7173, -1.7173],\n",
              "           [ 1.4200,  1.3502,  1.2805,  ..., -1.6999, -1.7173, -1.7173]]],\n",
              " \n",
              " \n",
              "         [[[ 0.2453,  0.2624,  0.1083,  ..., -2.0665, -1.9295, -1.8782],\n",
              "           [ 0.2453,  0.2624,  0.1083,  ..., -2.0665, -1.9295, -1.8782],\n",
              "           [ 0.2453,  0.2624,  0.1083,  ..., -2.0665, -1.9295, -1.8782],\n",
              "           ...,\n",
              "           [-0.1314,  0.0056,  0.1426,  ...,  2.1290,  2.2318, -2.0837],\n",
              "           [-0.1314,  0.0056,  0.1426,  ...,  2.1290,  2.2318, -2.0837],\n",
              "           [-0.1314,  0.0056,  0.1426,  ...,  2.1290,  2.2318, -2.0837]],\n",
              " \n",
              "          [[-0.0749,  0.0651,  0.0126,  ...,  2.4111, -1.9482, -1.8957],\n",
              "           [-0.0749,  0.0651,  0.0126,  ...,  2.4111, -1.9482, -1.8957],\n",
              "           [-0.0749,  0.0651,  0.0126,  ...,  2.4111, -1.9482, -1.8957],\n",
              "           ...,\n",
              "           [-0.4601, -0.1975,  0.0476,  ...,  2.2010,  2.3060,  2.3936],\n",
              "           [-0.4601, -0.1975,  0.0476,  ...,  2.2010,  2.3060,  2.3936],\n",
              "           [-0.4601, -0.1975,  0.0476,  ...,  2.2010,  2.3060,  2.3936]],\n",
              " \n",
              "          [[ 0.4439,  0.4614,  0.3219,  ..., -1.7173, -1.5779, -1.5256],\n",
              "           [ 0.4439,  0.4614,  0.3219,  ..., -1.7173, -1.5779, -1.5256],\n",
              "           [ 0.4439,  0.4614,  0.3219,  ..., -1.7173, -1.5779, -1.5256],\n",
              "           ...,\n",
              "           [ 0.0605,  0.1999,  0.3568,  ...,  2.5529, -1.8044, -1.7347],\n",
              "           [ 0.0605,  0.1999,  0.3568,  ...,  2.5529, -1.8044, -1.7347],\n",
              "           [ 0.0605,  0.1999,  0.3568,  ...,  2.5529, -1.8044, -1.7347]]]]),\n",
              " tensor([2., 2., 1., 3., 1., 3., 1., 1., 3., 3.])]"
            ]
          },
          "metadata": {},
          "execution_count": 90
        }
      ]
    },
    {
      "cell_type": "code",
      "source": [
        "from tqdm import tqdm\n",
        "def train_classifier_one_epoch(train_data_loader, model, loss_function, optimizer,device):\n",
        "    \"\"\"\n",
        "    Input:\n",
        "    train_data_loader: Dataloader defined using an instance of 'CEE498_Concrete_dataset' corresponding to the training set\n",
        "    model: Your network\n",
        "    loss_function,optimizer: self explanatory\n",
        "    device: cuda (0) or cpu\n",
        "    \n",
        "    \n",
        "    output:\n",
        "    loss_individual_epoch: scalar: average Loss accumulated over the entire dataset as training progresses over all minibatches\n",
        "    model: Your model trainged after one epoch\n",
        "    \"\"\"\n",
        "    model.train()\n",
        "    loss_individual_epoch = 0\n",
        "    for i, (images, labels) in tqdm(enumerate(train_data_loader),'Training progress within an epoch'):\n",
        "        \"\"\"\n",
        "        Fill your code after this\n",
        "        \"\"\"\n",
        "        optimizer.zero_grad()\n",
        "\n",
        "        images, labels = images.to(device), labels.to(device)\n",
        "        labels = labels.unsqueeze(1)\n",
        "        labels = labels.float()\n",
        "        \n",
        "        # Make prediction\n",
        "        yhat = model(images)\n",
        "        #yhat = predict_cnn(yhat)\n",
        "        #yhat = yhat.view(-1,4)\n",
        "        \n",
        "        #yhat = predict_if_crack(yhat)\n",
        "        #yhat = torch.unsqueeze(yhat,1)\n",
        "\n",
        "        #print(yhat, yhat.shape)\n",
        "        #print(labels, labels.shape)\n",
        "\n",
        "        \n",
        "        # calculate the loss\n",
        "        loss = loss_function(yhat, torch.max(labels, 1)[1])\n",
        "        # calculate the gradients\n",
        "        loss.backward()\n",
        "        # update parameters\n",
        "        optimizer.step()\n",
        "\n",
        "        loss_individual_epoch += loss.item()\n",
        "\n",
        "        \n",
        "    return loss_individual_epoch,model"
      ],
      "metadata": {
        "id": "d8BUvev0bP5w"
      },
      "execution_count": 94,
      "outputs": []
    },
    {
      "cell_type": "code",
      "source": [
        "def train_multiple_epochs(model, num_epochs, train_dataloader, test_dataloader, loss_function, optimizer,device,test_frequency=5):\n",
        "    \n",
        "    \"\"\"\n",
        "    Input: \n",
        "    model: Your network\n",
        "    num_epochs: Integer\n",
        "    train_data_loader: Dataloader defined using an instance of 'CEE498_Concrete_dataset' corresponding to the training set\n",
        "    test_dataloader: Dataloader defined using an instance of 'CEE498_Concrete_dataset' corresponding to the test set\n",
        "    loss_function,optimizer: self explanatory\n",
        "    device: cuda (0) or cpu\n",
        "    test_frequency: Integer: At what frequency do you want to evaluate performance on the test set\n",
        "    \n",
        "    Ouput:\n",
        "    model: Your model trainged after 'num_epochs' epochs\n",
        "    \"\"\"\n",
        "    for epoch in range(1,num_epochs+1):\n",
        "        print(\"Starting epoch number \" + str(epoch))\n",
        "        train_loss,model = train_classifier_one_epoch(train_dataloader, model, loss_function, optimizer,device)\n",
        "        print(\"Loss for Training on Epoch \" +str(epoch) + \" is \"+ str(train_loss))\n",
        "    return model"
      ],
      "metadata": {
        "id": "ihVatiyOe42O"
      },
      "execution_count": 95,
      "outputs": []
    },
    {
      "cell_type": "code",
      "source": [
        "resnet18_1 = torch.hub.load('pytorch/vision:v0.10.0', 'resnet18', pretrained=True)\n",
        "print(resnet18_1)"
      ],
      "metadata": {
        "colab": {
          "base_uri": "https://localhost:8080/"
        },
        "id": "RA4zZ8-VfGF5",
        "outputId": "0a297981-595e-400d-cdfb-5d842e27e209"
      },
      "execution_count": 96,
      "outputs": [
        {
          "output_type": "stream",
          "name": "stdout",
          "text": [
            "ResNet(\n",
            "  (conv1): Conv2d(3, 64, kernel_size=(7, 7), stride=(2, 2), padding=(3, 3), bias=False)\n",
            "  (bn1): BatchNorm2d(64, eps=1e-05, momentum=0.1, affine=True, track_running_stats=True)\n",
            "  (relu): ReLU(inplace=True)\n",
            "  (maxpool): MaxPool2d(kernel_size=3, stride=2, padding=1, dilation=1, ceil_mode=False)\n",
            "  (layer1): Sequential(\n",
            "    (0): BasicBlock(\n",
            "      (conv1): Conv2d(64, 64, kernel_size=(3, 3), stride=(1, 1), padding=(1, 1), bias=False)\n",
            "      (bn1): BatchNorm2d(64, eps=1e-05, momentum=0.1, affine=True, track_running_stats=True)\n",
            "      (relu): ReLU(inplace=True)\n",
            "      (conv2): Conv2d(64, 64, kernel_size=(3, 3), stride=(1, 1), padding=(1, 1), bias=False)\n",
            "      (bn2): BatchNorm2d(64, eps=1e-05, momentum=0.1, affine=True, track_running_stats=True)\n",
            "    )\n",
            "    (1): BasicBlock(\n",
            "      (conv1): Conv2d(64, 64, kernel_size=(3, 3), stride=(1, 1), padding=(1, 1), bias=False)\n",
            "      (bn1): BatchNorm2d(64, eps=1e-05, momentum=0.1, affine=True, track_running_stats=True)\n",
            "      (relu): ReLU(inplace=True)\n",
            "      (conv2): Conv2d(64, 64, kernel_size=(3, 3), stride=(1, 1), padding=(1, 1), bias=False)\n",
            "      (bn2): BatchNorm2d(64, eps=1e-05, momentum=0.1, affine=True, track_running_stats=True)\n",
            "    )\n",
            "  )\n",
            "  (layer2): Sequential(\n",
            "    (0): BasicBlock(\n",
            "      (conv1): Conv2d(64, 128, kernel_size=(3, 3), stride=(2, 2), padding=(1, 1), bias=False)\n",
            "      (bn1): BatchNorm2d(128, eps=1e-05, momentum=0.1, affine=True, track_running_stats=True)\n",
            "      (relu): ReLU(inplace=True)\n",
            "      (conv2): Conv2d(128, 128, kernel_size=(3, 3), stride=(1, 1), padding=(1, 1), bias=False)\n",
            "      (bn2): BatchNorm2d(128, eps=1e-05, momentum=0.1, affine=True, track_running_stats=True)\n",
            "      (downsample): Sequential(\n",
            "        (0): Conv2d(64, 128, kernel_size=(1, 1), stride=(2, 2), bias=False)\n",
            "        (1): BatchNorm2d(128, eps=1e-05, momentum=0.1, affine=True, track_running_stats=True)\n",
            "      )\n",
            "    )\n",
            "    (1): BasicBlock(\n",
            "      (conv1): Conv2d(128, 128, kernel_size=(3, 3), stride=(1, 1), padding=(1, 1), bias=False)\n",
            "      (bn1): BatchNorm2d(128, eps=1e-05, momentum=0.1, affine=True, track_running_stats=True)\n",
            "      (relu): ReLU(inplace=True)\n",
            "      (conv2): Conv2d(128, 128, kernel_size=(3, 3), stride=(1, 1), padding=(1, 1), bias=False)\n",
            "      (bn2): BatchNorm2d(128, eps=1e-05, momentum=0.1, affine=True, track_running_stats=True)\n",
            "    )\n",
            "  )\n",
            "  (layer3): Sequential(\n",
            "    (0): BasicBlock(\n",
            "      (conv1): Conv2d(128, 256, kernel_size=(3, 3), stride=(2, 2), padding=(1, 1), bias=False)\n",
            "      (bn1): BatchNorm2d(256, eps=1e-05, momentum=0.1, affine=True, track_running_stats=True)\n",
            "      (relu): ReLU(inplace=True)\n",
            "      (conv2): Conv2d(256, 256, kernel_size=(3, 3), stride=(1, 1), padding=(1, 1), bias=False)\n",
            "      (bn2): BatchNorm2d(256, eps=1e-05, momentum=0.1, affine=True, track_running_stats=True)\n",
            "      (downsample): Sequential(\n",
            "        (0): Conv2d(128, 256, kernel_size=(1, 1), stride=(2, 2), bias=False)\n",
            "        (1): BatchNorm2d(256, eps=1e-05, momentum=0.1, affine=True, track_running_stats=True)\n",
            "      )\n",
            "    )\n",
            "    (1): BasicBlock(\n",
            "      (conv1): Conv2d(256, 256, kernel_size=(3, 3), stride=(1, 1), padding=(1, 1), bias=False)\n",
            "      (bn1): BatchNorm2d(256, eps=1e-05, momentum=0.1, affine=True, track_running_stats=True)\n",
            "      (relu): ReLU(inplace=True)\n",
            "      (conv2): Conv2d(256, 256, kernel_size=(3, 3), stride=(1, 1), padding=(1, 1), bias=False)\n",
            "      (bn2): BatchNorm2d(256, eps=1e-05, momentum=0.1, affine=True, track_running_stats=True)\n",
            "    )\n",
            "  )\n",
            "  (layer4): Sequential(\n",
            "    (0): BasicBlock(\n",
            "      (conv1): Conv2d(256, 512, kernel_size=(3, 3), stride=(2, 2), padding=(1, 1), bias=False)\n",
            "      (bn1): BatchNorm2d(512, eps=1e-05, momentum=0.1, affine=True, track_running_stats=True)\n",
            "      (relu): ReLU(inplace=True)\n",
            "      (conv2): Conv2d(512, 512, kernel_size=(3, 3), stride=(1, 1), padding=(1, 1), bias=False)\n",
            "      (bn2): BatchNorm2d(512, eps=1e-05, momentum=0.1, affine=True, track_running_stats=True)\n",
            "      (downsample): Sequential(\n",
            "        (0): Conv2d(256, 512, kernel_size=(1, 1), stride=(2, 2), bias=False)\n",
            "        (1): BatchNorm2d(512, eps=1e-05, momentum=0.1, affine=True, track_running_stats=True)\n",
            "      )\n",
            "    )\n",
            "    (1): BasicBlock(\n",
            "      (conv1): Conv2d(512, 512, kernel_size=(3, 3), stride=(1, 1), padding=(1, 1), bias=False)\n",
            "      (bn1): BatchNorm2d(512, eps=1e-05, momentum=0.1, affine=True, track_running_stats=True)\n",
            "      (relu): ReLU(inplace=True)\n",
            "      (conv2): Conv2d(512, 512, kernel_size=(3, 3), stride=(1, 1), padding=(1, 1), bias=False)\n",
            "      (bn2): BatchNorm2d(512, eps=1e-05, momentum=0.1, affine=True, track_running_stats=True)\n",
            "    )\n",
            "  )\n",
            "  (avgpool): AdaptiveAvgPool2d(output_size=(1, 1))\n",
            "  (fc): Linear(in_features=512, out_features=1000, bias=True)\n",
            ")\n"
          ]
        },
        {
          "output_type": "stream",
          "name": "stderr",
          "text": [
            "Using cache found in /root/.cache/torch/hub/pytorch_vision_v0.10.0\n"
          ]
        }
      ]
    },
    {
      "cell_type": "code",
      "source": [
        "def set_requires_grad_to_false(model):\n",
        "    \"\"\"\n",
        "    Input: \n",
        "    model: Network with requires_grad=True\n",
        "    Output:\n",
        "    model: Network with requires_grad=False\n",
        "    \"\"\"\n",
        "    #You code after this line\n",
        "    for param in model.parameters():\n",
        "      param.requires_grad = False\n",
        "    return model"
      ],
      "metadata": {
        "id": "o4ddq0HwfL1g"
      },
      "execution_count": 97,
      "outputs": []
    },
    {
      "cell_type": "code",
      "source": [
        "#resnet18_1=set_requires_grad_to_false(resnet18_1)\n",
        "print(resnet18_1)"
      ],
      "metadata": {
        "colab": {
          "base_uri": "https://localhost:8080/"
        },
        "id": "x35uNEqUfOwx",
        "outputId": "83630013-c2b6-45ed-eb51-832e9e562c47"
      },
      "execution_count": 98,
      "outputs": [
        {
          "output_type": "stream",
          "name": "stdout",
          "text": [
            "ResNet(\n",
            "  (conv1): Conv2d(3, 64, kernel_size=(7, 7), stride=(2, 2), padding=(3, 3), bias=False)\n",
            "  (bn1): BatchNorm2d(64, eps=1e-05, momentum=0.1, affine=True, track_running_stats=True)\n",
            "  (relu): ReLU(inplace=True)\n",
            "  (maxpool): MaxPool2d(kernel_size=3, stride=2, padding=1, dilation=1, ceil_mode=False)\n",
            "  (layer1): Sequential(\n",
            "    (0): BasicBlock(\n",
            "      (conv1): Conv2d(64, 64, kernel_size=(3, 3), stride=(1, 1), padding=(1, 1), bias=False)\n",
            "      (bn1): BatchNorm2d(64, eps=1e-05, momentum=0.1, affine=True, track_running_stats=True)\n",
            "      (relu): ReLU(inplace=True)\n",
            "      (conv2): Conv2d(64, 64, kernel_size=(3, 3), stride=(1, 1), padding=(1, 1), bias=False)\n",
            "      (bn2): BatchNorm2d(64, eps=1e-05, momentum=0.1, affine=True, track_running_stats=True)\n",
            "    )\n",
            "    (1): BasicBlock(\n",
            "      (conv1): Conv2d(64, 64, kernel_size=(3, 3), stride=(1, 1), padding=(1, 1), bias=False)\n",
            "      (bn1): BatchNorm2d(64, eps=1e-05, momentum=0.1, affine=True, track_running_stats=True)\n",
            "      (relu): ReLU(inplace=True)\n",
            "      (conv2): Conv2d(64, 64, kernel_size=(3, 3), stride=(1, 1), padding=(1, 1), bias=False)\n",
            "      (bn2): BatchNorm2d(64, eps=1e-05, momentum=0.1, affine=True, track_running_stats=True)\n",
            "    )\n",
            "  )\n",
            "  (layer2): Sequential(\n",
            "    (0): BasicBlock(\n",
            "      (conv1): Conv2d(64, 128, kernel_size=(3, 3), stride=(2, 2), padding=(1, 1), bias=False)\n",
            "      (bn1): BatchNorm2d(128, eps=1e-05, momentum=0.1, affine=True, track_running_stats=True)\n",
            "      (relu): ReLU(inplace=True)\n",
            "      (conv2): Conv2d(128, 128, kernel_size=(3, 3), stride=(1, 1), padding=(1, 1), bias=False)\n",
            "      (bn2): BatchNorm2d(128, eps=1e-05, momentum=0.1, affine=True, track_running_stats=True)\n",
            "      (downsample): Sequential(\n",
            "        (0): Conv2d(64, 128, kernel_size=(1, 1), stride=(2, 2), bias=False)\n",
            "        (1): BatchNorm2d(128, eps=1e-05, momentum=0.1, affine=True, track_running_stats=True)\n",
            "      )\n",
            "    )\n",
            "    (1): BasicBlock(\n",
            "      (conv1): Conv2d(128, 128, kernel_size=(3, 3), stride=(1, 1), padding=(1, 1), bias=False)\n",
            "      (bn1): BatchNorm2d(128, eps=1e-05, momentum=0.1, affine=True, track_running_stats=True)\n",
            "      (relu): ReLU(inplace=True)\n",
            "      (conv2): Conv2d(128, 128, kernel_size=(3, 3), stride=(1, 1), padding=(1, 1), bias=False)\n",
            "      (bn2): BatchNorm2d(128, eps=1e-05, momentum=0.1, affine=True, track_running_stats=True)\n",
            "    )\n",
            "  )\n",
            "  (layer3): Sequential(\n",
            "    (0): BasicBlock(\n",
            "      (conv1): Conv2d(128, 256, kernel_size=(3, 3), stride=(2, 2), padding=(1, 1), bias=False)\n",
            "      (bn1): BatchNorm2d(256, eps=1e-05, momentum=0.1, affine=True, track_running_stats=True)\n",
            "      (relu): ReLU(inplace=True)\n",
            "      (conv2): Conv2d(256, 256, kernel_size=(3, 3), stride=(1, 1), padding=(1, 1), bias=False)\n",
            "      (bn2): BatchNorm2d(256, eps=1e-05, momentum=0.1, affine=True, track_running_stats=True)\n",
            "      (downsample): Sequential(\n",
            "        (0): Conv2d(128, 256, kernel_size=(1, 1), stride=(2, 2), bias=False)\n",
            "        (1): BatchNorm2d(256, eps=1e-05, momentum=0.1, affine=True, track_running_stats=True)\n",
            "      )\n",
            "    )\n",
            "    (1): BasicBlock(\n",
            "      (conv1): Conv2d(256, 256, kernel_size=(3, 3), stride=(1, 1), padding=(1, 1), bias=False)\n",
            "      (bn1): BatchNorm2d(256, eps=1e-05, momentum=0.1, affine=True, track_running_stats=True)\n",
            "      (relu): ReLU(inplace=True)\n",
            "      (conv2): Conv2d(256, 256, kernel_size=(3, 3), stride=(1, 1), padding=(1, 1), bias=False)\n",
            "      (bn2): BatchNorm2d(256, eps=1e-05, momentum=0.1, affine=True, track_running_stats=True)\n",
            "    )\n",
            "  )\n",
            "  (layer4): Sequential(\n",
            "    (0): BasicBlock(\n",
            "      (conv1): Conv2d(256, 512, kernel_size=(3, 3), stride=(2, 2), padding=(1, 1), bias=False)\n",
            "      (bn1): BatchNorm2d(512, eps=1e-05, momentum=0.1, affine=True, track_running_stats=True)\n",
            "      (relu): ReLU(inplace=True)\n",
            "      (conv2): Conv2d(512, 512, kernel_size=(3, 3), stride=(1, 1), padding=(1, 1), bias=False)\n",
            "      (bn2): BatchNorm2d(512, eps=1e-05, momentum=0.1, affine=True, track_running_stats=True)\n",
            "      (downsample): Sequential(\n",
            "        (0): Conv2d(256, 512, kernel_size=(1, 1), stride=(2, 2), bias=False)\n",
            "        (1): BatchNorm2d(512, eps=1e-05, momentum=0.1, affine=True, track_running_stats=True)\n",
            "      )\n",
            "    )\n",
            "    (1): BasicBlock(\n",
            "      (conv1): Conv2d(512, 512, kernel_size=(3, 3), stride=(1, 1), padding=(1, 1), bias=False)\n",
            "      (bn1): BatchNorm2d(512, eps=1e-05, momentum=0.1, affine=True, track_running_stats=True)\n",
            "      (relu): ReLU(inplace=True)\n",
            "      (conv2): Conv2d(512, 512, kernel_size=(3, 3), stride=(1, 1), padding=(1, 1), bias=False)\n",
            "      (bn2): BatchNorm2d(512, eps=1e-05, momentum=0.1, affine=True, track_running_stats=True)\n",
            "    )\n",
            "  )\n",
            "  (avgpool): AdaptiveAvgPool2d(output_size=(1, 1))\n",
            "  (fc): Linear(in_features=512, out_features=1000, bias=True)\n",
            ")\n"
          ]
        }
      ]
    },
    {
      "cell_type": "code",
      "source": [
        "#Implement the above in this cell\n",
        "resnet18_1.fc = nn.Sequential(nn.Linear(512, 4), nn.LogSoftmax(dim=1))\n",
        "\n",
        "#Do not remove this\n",
        "resnet18_1.to(device)"
      ],
      "metadata": {
        "id": "sKxovOv1fSUw",
        "colab": {
          "base_uri": "https://localhost:8080/"
        },
        "outputId": "88137b2b-6355-4fee-8a69-b56813d63f65"
      },
      "execution_count": 99,
      "outputs": [
        {
          "output_type": "execute_result",
          "data": {
            "text/plain": [
              "ResNet(\n",
              "  (conv1): Conv2d(3, 64, kernel_size=(7, 7), stride=(2, 2), padding=(3, 3), bias=False)\n",
              "  (bn1): BatchNorm2d(64, eps=1e-05, momentum=0.1, affine=True, track_running_stats=True)\n",
              "  (relu): ReLU(inplace=True)\n",
              "  (maxpool): MaxPool2d(kernel_size=3, stride=2, padding=1, dilation=1, ceil_mode=False)\n",
              "  (layer1): Sequential(\n",
              "    (0): BasicBlock(\n",
              "      (conv1): Conv2d(64, 64, kernel_size=(3, 3), stride=(1, 1), padding=(1, 1), bias=False)\n",
              "      (bn1): BatchNorm2d(64, eps=1e-05, momentum=0.1, affine=True, track_running_stats=True)\n",
              "      (relu): ReLU(inplace=True)\n",
              "      (conv2): Conv2d(64, 64, kernel_size=(3, 3), stride=(1, 1), padding=(1, 1), bias=False)\n",
              "      (bn2): BatchNorm2d(64, eps=1e-05, momentum=0.1, affine=True, track_running_stats=True)\n",
              "    )\n",
              "    (1): BasicBlock(\n",
              "      (conv1): Conv2d(64, 64, kernel_size=(3, 3), stride=(1, 1), padding=(1, 1), bias=False)\n",
              "      (bn1): BatchNorm2d(64, eps=1e-05, momentum=0.1, affine=True, track_running_stats=True)\n",
              "      (relu): ReLU(inplace=True)\n",
              "      (conv2): Conv2d(64, 64, kernel_size=(3, 3), stride=(1, 1), padding=(1, 1), bias=False)\n",
              "      (bn2): BatchNorm2d(64, eps=1e-05, momentum=0.1, affine=True, track_running_stats=True)\n",
              "    )\n",
              "  )\n",
              "  (layer2): Sequential(\n",
              "    (0): BasicBlock(\n",
              "      (conv1): Conv2d(64, 128, kernel_size=(3, 3), stride=(2, 2), padding=(1, 1), bias=False)\n",
              "      (bn1): BatchNorm2d(128, eps=1e-05, momentum=0.1, affine=True, track_running_stats=True)\n",
              "      (relu): ReLU(inplace=True)\n",
              "      (conv2): Conv2d(128, 128, kernel_size=(3, 3), stride=(1, 1), padding=(1, 1), bias=False)\n",
              "      (bn2): BatchNorm2d(128, eps=1e-05, momentum=0.1, affine=True, track_running_stats=True)\n",
              "      (downsample): Sequential(\n",
              "        (0): Conv2d(64, 128, kernel_size=(1, 1), stride=(2, 2), bias=False)\n",
              "        (1): BatchNorm2d(128, eps=1e-05, momentum=0.1, affine=True, track_running_stats=True)\n",
              "      )\n",
              "    )\n",
              "    (1): BasicBlock(\n",
              "      (conv1): Conv2d(128, 128, kernel_size=(3, 3), stride=(1, 1), padding=(1, 1), bias=False)\n",
              "      (bn1): BatchNorm2d(128, eps=1e-05, momentum=0.1, affine=True, track_running_stats=True)\n",
              "      (relu): ReLU(inplace=True)\n",
              "      (conv2): Conv2d(128, 128, kernel_size=(3, 3), stride=(1, 1), padding=(1, 1), bias=False)\n",
              "      (bn2): BatchNorm2d(128, eps=1e-05, momentum=0.1, affine=True, track_running_stats=True)\n",
              "    )\n",
              "  )\n",
              "  (layer3): Sequential(\n",
              "    (0): BasicBlock(\n",
              "      (conv1): Conv2d(128, 256, kernel_size=(3, 3), stride=(2, 2), padding=(1, 1), bias=False)\n",
              "      (bn1): BatchNorm2d(256, eps=1e-05, momentum=0.1, affine=True, track_running_stats=True)\n",
              "      (relu): ReLU(inplace=True)\n",
              "      (conv2): Conv2d(256, 256, kernel_size=(3, 3), stride=(1, 1), padding=(1, 1), bias=False)\n",
              "      (bn2): BatchNorm2d(256, eps=1e-05, momentum=0.1, affine=True, track_running_stats=True)\n",
              "      (downsample): Sequential(\n",
              "        (0): Conv2d(128, 256, kernel_size=(1, 1), stride=(2, 2), bias=False)\n",
              "        (1): BatchNorm2d(256, eps=1e-05, momentum=0.1, affine=True, track_running_stats=True)\n",
              "      )\n",
              "    )\n",
              "    (1): BasicBlock(\n",
              "      (conv1): Conv2d(256, 256, kernel_size=(3, 3), stride=(1, 1), padding=(1, 1), bias=False)\n",
              "      (bn1): BatchNorm2d(256, eps=1e-05, momentum=0.1, affine=True, track_running_stats=True)\n",
              "      (relu): ReLU(inplace=True)\n",
              "      (conv2): Conv2d(256, 256, kernel_size=(3, 3), stride=(1, 1), padding=(1, 1), bias=False)\n",
              "      (bn2): BatchNorm2d(256, eps=1e-05, momentum=0.1, affine=True, track_running_stats=True)\n",
              "    )\n",
              "  )\n",
              "  (layer4): Sequential(\n",
              "    (0): BasicBlock(\n",
              "      (conv1): Conv2d(256, 512, kernel_size=(3, 3), stride=(2, 2), padding=(1, 1), bias=False)\n",
              "      (bn1): BatchNorm2d(512, eps=1e-05, momentum=0.1, affine=True, track_running_stats=True)\n",
              "      (relu): ReLU(inplace=True)\n",
              "      (conv2): Conv2d(512, 512, kernel_size=(3, 3), stride=(1, 1), padding=(1, 1), bias=False)\n",
              "      (bn2): BatchNorm2d(512, eps=1e-05, momentum=0.1, affine=True, track_running_stats=True)\n",
              "      (downsample): Sequential(\n",
              "        (0): Conv2d(256, 512, kernel_size=(1, 1), stride=(2, 2), bias=False)\n",
              "        (1): BatchNorm2d(512, eps=1e-05, momentum=0.1, affine=True, track_running_stats=True)\n",
              "      )\n",
              "    )\n",
              "    (1): BasicBlock(\n",
              "      (conv1): Conv2d(512, 512, kernel_size=(3, 3), stride=(1, 1), padding=(1, 1), bias=False)\n",
              "      (bn1): BatchNorm2d(512, eps=1e-05, momentum=0.1, affine=True, track_running_stats=True)\n",
              "      (relu): ReLU(inplace=True)\n",
              "      (conv2): Conv2d(512, 512, kernel_size=(3, 3), stride=(1, 1), padding=(1, 1), bias=False)\n",
              "      (bn2): BatchNorm2d(512, eps=1e-05, momentum=0.1, affine=True, track_running_stats=True)\n",
              "    )\n",
              "  )\n",
              "  (avgpool): AdaptiveAvgPool2d(output_size=(1, 1))\n",
              "  (fc): Sequential(\n",
              "    (0): Linear(in_features=512, out_features=4, bias=True)\n",
              "    (1): LogSoftmax(dim=1)\n",
              "  )\n",
              ")"
            ]
          },
          "metadata": {},
          "execution_count": 99
        }
      ]
    },
    {
      "cell_type": "code",
      "source": [
        "loss_function=nn.CrossEntropyLoss()#Choose a loss function you wish to optimize in this excersise\n",
        "learning_rate=0.005 #Choose a learning rate\n",
        "optimizer=torch.optim.SGD(resnet18_1.parameters(), lr=learning_rate)#Choose an optimizer you wish\n",
        "number_of_epochs=5#Choose the number of epochs\n",
        "test_frequency=2 #(how often do you want to display performance on the test data)\n",
        "resnet18_1=train_multiple_epochs(resnet18_1, number_of_epochs, train_dataloader, test_dataloader, loss_function, optimizer,device,test_frequency)\n"
      ],
      "metadata": {
        "id": "vfnHmzFlfW-t",
        "colab": {
          "base_uri": "https://localhost:8080/",
          "height": 414
        },
        "outputId": "7a3adbbc-c897-4701-b799-43b9ba1037e6"
      },
      "execution_count": 100,
      "outputs": [
        {
          "output_type": "stream",
          "name": "stdout",
          "text": [
            "Starting epoch number 1\n"
          ]
        },
        {
          "output_type": "stream",
          "name": "stderr",
          "text": [
            "Training progress within an epoch: 246it [00:12, 19.62it/s]\n"
          ]
        },
        {
          "output_type": "error",
          "ename": "KeyboardInterrupt",
          "evalue": "ignored",
          "traceback": [
            "\u001b[0;31m---------------------------------------------------------------------------\u001b[0m",
            "\u001b[0;31mKeyboardInterrupt\u001b[0m                         Traceback (most recent call last)",
            "\u001b[0;32m<ipython-input-100-bb04865e0f32>\u001b[0m in \u001b[0;36m<module>\u001b[0;34m()\u001b[0m\n\u001b[1;32m      4\u001b[0m \u001b[0mnumber_of_epochs\u001b[0m\u001b[0;34m=\u001b[0m\u001b[0;36m5\u001b[0m\u001b[0;31m#Choose the number of epochs\u001b[0m\u001b[0;34m\u001b[0m\u001b[0;34m\u001b[0m\u001b[0m\n\u001b[1;32m      5\u001b[0m \u001b[0mtest_frequency\u001b[0m\u001b[0;34m=\u001b[0m\u001b[0;36m2\u001b[0m \u001b[0;31m#(how often do you want to display performance on the test data)\u001b[0m\u001b[0;34m\u001b[0m\u001b[0;34m\u001b[0m\u001b[0m\n\u001b[0;32m----> 6\u001b[0;31m \u001b[0mresnet18_1\u001b[0m\u001b[0;34m=\u001b[0m\u001b[0mtrain_multiple_epochs\u001b[0m\u001b[0;34m(\u001b[0m\u001b[0mresnet18_1\u001b[0m\u001b[0;34m,\u001b[0m \u001b[0mnumber_of_epochs\u001b[0m\u001b[0;34m,\u001b[0m \u001b[0mtrain_dataloader\u001b[0m\u001b[0;34m,\u001b[0m \u001b[0mtest_dataloader\u001b[0m\u001b[0;34m,\u001b[0m \u001b[0mloss_function\u001b[0m\u001b[0;34m,\u001b[0m \u001b[0moptimizer\u001b[0m\u001b[0;34m,\u001b[0m\u001b[0mdevice\u001b[0m\u001b[0;34m,\u001b[0m\u001b[0mtest_frequency\u001b[0m\u001b[0;34m)\u001b[0m\u001b[0;34m\u001b[0m\u001b[0;34m\u001b[0m\u001b[0m\n\u001b[0m",
            "\u001b[0;32m<ipython-input-95-a9b8ecd0296a>\u001b[0m in \u001b[0;36mtrain_multiple_epochs\u001b[0;34m(model, num_epochs, train_dataloader, test_dataloader, loss_function, optimizer, device, test_frequency)\u001b[0m\n\u001b[1;32m     16\u001b[0m     \u001b[0;32mfor\u001b[0m \u001b[0mepoch\u001b[0m \u001b[0;32min\u001b[0m \u001b[0mrange\u001b[0m\u001b[0;34m(\u001b[0m\u001b[0;36m1\u001b[0m\u001b[0;34m,\u001b[0m\u001b[0mnum_epochs\u001b[0m\u001b[0;34m+\u001b[0m\u001b[0;36m1\u001b[0m\u001b[0;34m)\u001b[0m\u001b[0;34m:\u001b[0m\u001b[0;34m\u001b[0m\u001b[0;34m\u001b[0m\u001b[0m\n\u001b[1;32m     17\u001b[0m         \u001b[0mprint\u001b[0m\u001b[0;34m(\u001b[0m\u001b[0;34m\"Starting epoch number \"\u001b[0m \u001b[0;34m+\u001b[0m \u001b[0mstr\u001b[0m\u001b[0;34m(\u001b[0m\u001b[0mepoch\u001b[0m\u001b[0;34m)\u001b[0m\u001b[0;34m)\u001b[0m\u001b[0;34m\u001b[0m\u001b[0;34m\u001b[0m\u001b[0m\n\u001b[0;32m---> 18\u001b[0;31m         \u001b[0mtrain_loss\u001b[0m\u001b[0;34m,\u001b[0m\u001b[0mmodel\u001b[0m \u001b[0;34m=\u001b[0m \u001b[0mtrain_classifier_one_epoch\u001b[0m\u001b[0;34m(\u001b[0m\u001b[0mtrain_dataloader\u001b[0m\u001b[0;34m,\u001b[0m \u001b[0mmodel\u001b[0m\u001b[0;34m,\u001b[0m \u001b[0mloss_function\u001b[0m\u001b[0;34m,\u001b[0m \u001b[0moptimizer\u001b[0m\u001b[0;34m,\u001b[0m\u001b[0mdevice\u001b[0m\u001b[0;34m)\u001b[0m\u001b[0;34m\u001b[0m\u001b[0;34m\u001b[0m\u001b[0m\n\u001b[0m\u001b[1;32m     19\u001b[0m         \u001b[0mprint\u001b[0m\u001b[0;34m(\u001b[0m\u001b[0;34m\"Loss for Training on Epoch \"\u001b[0m \u001b[0;34m+\u001b[0m\u001b[0mstr\u001b[0m\u001b[0;34m(\u001b[0m\u001b[0mepoch\u001b[0m\u001b[0;34m)\u001b[0m \u001b[0;34m+\u001b[0m \u001b[0;34m\" is \"\u001b[0m\u001b[0;34m+\u001b[0m \u001b[0mstr\u001b[0m\u001b[0;34m(\u001b[0m\u001b[0mtrain_loss\u001b[0m\u001b[0;34m)\u001b[0m\u001b[0;34m)\u001b[0m\u001b[0;34m\u001b[0m\u001b[0;34m\u001b[0m\u001b[0m\n\u001b[1;32m     20\u001b[0m     \u001b[0;32mreturn\u001b[0m \u001b[0mmodel\u001b[0m\u001b[0;34m\u001b[0m\u001b[0;34m\u001b[0m\u001b[0m\n",
            "\u001b[0;32m<ipython-input-94-0fd444233435>\u001b[0m in \u001b[0;36mtrain_classifier_one_epoch\u001b[0;34m(train_data_loader, model, loss_function, optimizer, device)\u001b[0m\n\u001b[1;32m     40\u001b[0m         \u001b[0mloss\u001b[0m \u001b[0;34m=\u001b[0m \u001b[0mloss_function\u001b[0m\u001b[0;34m(\u001b[0m\u001b[0myhat\u001b[0m\u001b[0;34m,\u001b[0m \u001b[0mtorch\u001b[0m\u001b[0;34m.\u001b[0m\u001b[0mmax\u001b[0m\u001b[0;34m(\u001b[0m\u001b[0mlabels\u001b[0m\u001b[0;34m,\u001b[0m \u001b[0;36m1\u001b[0m\u001b[0;34m)\u001b[0m\u001b[0;34m[\u001b[0m\u001b[0;36m1\u001b[0m\u001b[0;34m]\u001b[0m\u001b[0;34m)\u001b[0m\u001b[0;34m\u001b[0m\u001b[0;34m\u001b[0m\u001b[0m\n\u001b[1;32m     41\u001b[0m         \u001b[0;31m# calculate the gradients\u001b[0m\u001b[0;34m\u001b[0m\u001b[0;34m\u001b[0m\u001b[0;34m\u001b[0m\u001b[0m\n\u001b[0;32m---> 42\u001b[0;31m         \u001b[0mloss\u001b[0m\u001b[0;34m.\u001b[0m\u001b[0mbackward\u001b[0m\u001b[0;34m(\u001b[0m\u001b[0;34m)\u001b[0m\u001b[0;34m\u001b[0m\u001b[0;34m\u001b[0m\u001b[0m\n\u001b[0m\u001b[1;32m     43\u001b[0m         \u001b[0;31m# update parameters\u001b[0m\u001b[0;34m\u001b[0m\u001b[0;34m\u001b[0m\u001b[0;34m\u001b[0m\u001b[0m\n\u001b[1;32m     44\u001b[0m         \u001b[0moptimizer\u001b[0m\u001b[0;34m.\u001b[0m\u001b[0mstep\u001b[0m\u001b[0;34m(\u001b[0m\u001b[0;34m)\u001b[0m\u001b[0;34m\u001b[0m\u001b[0;34m\u001b[0m\u001b[0m\n",
            "\u001b[0;32m/usr/local/lib/python3.7/dist-packages/torch/_tensor.py\u001b[0m in \u001b[0;36mbackward\u001b[0;34m(self, gradient, retain_graph, create_graph, inputs)\u001b[0m\n\u001b[1;32m    305\u001b[0m                 \u001b[0mcreate_graph\u001b[0m\u001b[0;34m=\u001b[0m\u001b[0mcreate_graph\u001b[0m\u001b[0;34m,\u001b[0m\u001b[0;34m\u001b[0m\u001b[0;34m\u001b[0m\u001b[0m\n\u001b[1;32m    306\u001b[0m                 inputs=inputs)\n\u001b[0;32m--> 307\u001b[0;31m         \u001b[0mtorch\u001b[0m\u001b[0;34m.\u001b[0m\u001b[0mautograd\u001b[0m\u001b[0;34m.\u001b[0m\u001b[0mbackward\u001b[0m\u001b[0;34m(\u001b[0m\u001b[0mself\u001b[0m\u001b[0;34m,\u001b[0m \u001b[0mgradient\u001b[0m\u001b[0;34m,\u001b[0m \u001b[0mretain_graph\u001b[0m\u001b[0;34m,\u001b[0m \u001b[0mcreate_graph\u001b[0m\u001b[0;34m,\u001b[0m \u001b[0minputs\u001b[0m\u001b[0;34m=\u001b[0m\u001b[0minputs\u001b[0m\u001b[0;34m)\u001b[0m\u001b[0;34m\u001b[0m\u001b[0;34m\u001b[0m\u001b[0m\n\u001b[0m\u001b[1;32m    308\u001b[0m \u001b[0;34m\u001b[0m\u001b[0m\n\u001b[1;32m    309\u001b[0m     \u001b[0;32mdef\u001b[0m \u001b[0mregister_hook\u001b[0m\u001b[0;34m(\u001b[0m\u001b[0mself\u001b[0m\u001b[0;34m,\u001b[0m \u001b[0mhook\u001b[0m\u001b[0;34m)\u001b[0m\u001b[0;34m:\u001b[0m\u001b[0;34m\u001b[0m\u001b[0;34m\u001b[0m\u001b[0m\n",
            "\u001b[0;32m/usr/local/lib/python3.7/dist-packages/torch/autograd/__init__.py\u001b[0m in \u001b[0;36mbackward\u001b[0;34m(tensors, grad_tensors, retain_graph, create_graph, grad_variables, inputs)\u001b[0m\n\u001b[1;32m    154\u001b[0m     Variable._execution_engine.run_backward(\n\u001b[1;32m    155\u001b[0m         \u001b[0mtensors\u001b[0m\u001b[0;34m,\u001b[0m \u001b[0mgrad_tensors_\u001b[0m\u001b[0;34m,\u001b[0m \u001b[0mretain_graph\u001b[0m\u001b[0;34m,\u001b[0m \u001b[0mcreate_graph\u001b[0m\u001b[0;34m,\u001b[0m \u001b[0minputs\u001b[0m\u001b[0;34m,\u001b[0m\u001b[0;34m\u001b[0m\u001b[0;34m\u001b[0m\u001b[0m\n\u001b[0;32m--> 156\u001b[0;31m         allow_unreachable=True, accumulate_grad=True)  # allow_unreachable flag\n\u001b[0m\u001b[1;32m    157\u001b[0m \u001b[0;34m\u001b[0m\u001b[0m\n\u001b[1;32m    158\u001b[0m \u001b[0;34m\u001b[0m\u001b[0m\n",
            "\u001b[0;31mKeyboardInterrupt\u001b[0m: "
          ]
        }
      ]
    },
    {
      "cell_type": "code",
      "source": [
        "loss = [94.59964413195848,15.478144401684403,8.98856493551284,\n",
        "        6.238833989016712,4.851642609573901,3.93977307388559,\n",
        "        3.339437468908727,2.9128513913601637,2.582872357685119,2.2947833677753806,2.0538152211811393,1.8828785957302898,\n",
        "        1.7589469028171152,1.616011222358793,1.4916362650692463]\n",
        "\n",
        "plt.plot(np.array(loss),marker='o')\n",
        "plt.title('Loss in training - Baseline')\n",
        "plt.xlabel('Epochs')\n",
        "plt.ylabel('Loss')\n",
        "plt.savefig('loss.png', dpi=300, bbox_inches='tight')"
      ],
      "metadata": {
        "id": "7K0jWtEspz_Z",
        "colab": {
          "base_uri": "https://localhost:8080/",
          "height": 295
        },
        "outputId": "df84c600-6d32-46ac-c217-e361142c3115"
      },
      "execution_count": 21,
      "outputs": [
        {
          "output_type": "display_data",
          "data": {
            "text/plain": [
              "<Figure size 432x288 with 1 Axes>"
            ],
            "image/png": "[encoded data removed]"
          },
          "metadata": {
            "needs_background": "light"
          }
        }
      ]
    },
    {
      "cell_type": "code",
      "source": [
        "def predict_cnn(output_final_layer):\n",
        "    \"\"\"\n",
        "    Input: \n",
        "    ouput_final_layer: Numpy ouput from the network (convert the tensor into a numpy array before sending it as an input to \n",
        "    this function): Shape (N,a) where 'N' is number of examples and 'a' depends on\n",
        "    the network (either 1 or 2)\n",
        "    \n",
        "    prediction: numpy array: shape: (N,) (0 for no crack or 1 for cracked imaged)\n",
        "    \"\"\"\n",
        "    #You code after this line\n",
        "    i, prediction = torch.max(torch.exp(output_final_layer),1)\n",
        "    print(i)\n",
        "\n",
        "    return prediction\n"
      ],
      "metadata": {
        "id": "oykxk99-niyj"
      },
      "execution_count": 81,
      "outputs": []
    },
    {
      "cell_type": "code",
      "source": [
        "def test_classifier(test_dataloader, model):\n",
        "    model.eval()\n",
        "    with torch.no_grad():\n",
        "        \"\"\"\n",
        "        Input:\n",
        "        use the 'predict_if_crack' in this to help you\n",
        "        test_dataloader: Dataloader defined using an instance of 'CEE498_Concrete_dataset' corresponding to the test set\n",
        "        model: Trained network to be tested\n",
        "        \n",
        "        Ouput: No return statement required\n",
        "        \"\"\"\n",
        "        y_true = []\n",
        "        y_predict = []\n",
        "        for i, (images, labels) in enumerate(test_dataloader):\n",
        "            #You code after this line\n",
        "            images, labels = images.to(device), labels.to(device)\n",
        "            y_true.extend(labels.data.cpu().numpy())\n",
        "            z = model(images)\n",
        "            yhat = (torch.max(torch.exp(z),1)[1]).data.cpu().numpy()\n",
        "            #print(torch.exp(z))\n",
        "            y_predict.extend(yhat)\n",
        "\n",
        "    return y_predict, y_true"
      ],
      "metadata": {
        "id": "L1REfkfLLaPn"
      },
      "execution_count": 121,
      "outputs": []
    },
    {
      "cell_type": "code",
      "source": [
        "# Confussion Matrix\n",
        "from sklearn.metrics import confusion_matrix\n",
        "from sklearn.metrics import classification_report\n",
        "y_predict, y_true = test_classifier(test_dataloader,resnet18_1) \n",
        "cm = confusion_matrix(y_true, y_predict)\n",
        "print(cm)\n",
        "\n",
        "print(classification_report(y_true,y_predict))"
      ],
      "metadata": {
        "id": "m0ruLhom_Mhp",
        "colab": {
          "base_uri": "https://localhost:8080/"
        },
        "outputId": "32a0f891-61d2-414e-f554-236fde3524df"
      },
      "execution_count": 122,
      "outputs": [
        {
          "output_type": "stream",
          "name": "stdout",
          "text": [
            "[[ 94   0   0   0]\n",
            " [ 93   0   0   0]\n",
            " [104   0   0   0]\n",
            " [207   0   0   0]]\n",
            "              precision    recall  f1-score   support\n",
            "\n",
            "         0.0       0.19      1.00      0.32        94\n",
            "         1.0       0.00      0.00      0.00        93\n",
            "         2.0       0.00      0.00      0.00       104\n",
            "         3.0       0.00      0.00      0.00       207\n",
            "\n",
            "    accuracy                           0.19       498\n",
            "   macro avg       0.05      0.25      0.08       498\n",
            "weighted avg       0.04      0.19      0.06       498\n",
            "\n"
          ]
        },
        {
          "output_type": "stream",
          "name": "stderr",
          "text": [
            "/usr/local/lib/python3.7/dist-packages/sklearn/metrics/_classification.py:1318: UndefinedMetricWarning: Precision and F-score are ill-defined and being set to 0.0 in labels with no predicted samples. Use `zero_division` parameter to control this behavior.\n",
            "  _warn_prf(average, modifier, msg_start, len(result))\n",
            "/usr/local/lib/python3.7/dist-packages/sklearn/metrics/_classification.py:1318: UndefinedMetricWarning: Precision and F-score are ill-defined and being set to 0.0 in labels with no predicted samples. Use `zero_division` parameter to control this behavior.\n",
            "  _warn_prf(average, modifier, msg_start, len(result))\n",
            "/usr/local/lib/python3.7/dist-packages/sklearn/metrics/_classification.py:1318: UndefinedMetricWarning: Precision and F-score are ill-defined and being set to 0.0 in labels with no predicted samples. Use `zero_division` parameter to control this behavior.\n",
            "  _warn_prf(average, modifier, msg_start, len(result))\n"
          ]
        }
      ]
    },
    {
      "cell_type": "code",
      "source": [
        "import itertools\n",
        "import numpy as np\n",
        "import matplotlib.pyplot as plt\n",
        "def plot_confusion_matrix_pytorch(cm, classes, normalize=False, title='Confusion matrix', cmap=plt.cm.Blues):\n",
        "    if normalize:\n",
        "        cm = cm.astype('float') / cm.sum(axis=1)[:, np.newaxis]\n",
        "        print(\"Normalized confusion matrix\")\n",
        "    else:\n",
        "        print('Confusion matrix, without normalization')\n",
        "\n",
        "    print(cm)\n",
        "    plt.imshow(cm, interpolation='nearest', cmap=cmap)\n",
        "    plt.title(title)\n",
        "    plt.colorbar()\n",
        "    tick_marks = np.arange(len(classes))\n",
        "    plt.xticks(tick_marks, classes, rotation=45)\n",
        "    plt.yticks(tick_marks, classes)\n",
        "\n",
        "    fmt = '.2f' if normalize else 'd'\n",
        "    thresh = cm.max() / 2.\n",
        "    for i, j in itertools.product(range(cm.shape[0]), range(cm.shape[1])):\n",
        "        plt.text(j, i, format(cm[i, j], fmt), horizontalalignment=\"center\", color=\"white\" if cm[i, j] > thresh else \"black\")\n",
        "\n",
        "    plt.tight_layout()\n",
        "    plt.ylabel('True label')\n",
        "    plt.xlabel('Predicted label')"
      ],
      "metadata": {
        "id": "cPe9i4FhZOJP"
      },
      "execution_count": 124,
      "outputs": []
    },
    {
      "cell_type": "code",
      "source": [
        "plot_confusion_matrix_pytorch(cm, labels_test.columns.to_numpy())"
      ],
      "metadata": {
        "colab": {
          "base_uri": "https://localhost:8080/",
          "height": 398
        },
        "id": "KaL30XQCLHa2",
        "outputId": "df852188-ddb1-4ed9-d91a-93e5ce0e0409"
      },
      "execution_count": 125,
      "outputs": [
        {
          "output_type": "stream",
          "name": "stdout",
          "text": [
            "Confusion matrix, without normalization\n",
            "[[ 94   0   0   0]\n",
            " [ 93   0   0   0]\n",
            " [104   0   0   0]\n",
            " [207   0   0   0]]\n"
          ]
        },
        {
          "output_type": "display_data",
          "data": {
            "text/plain": [
              "<Figure size 432x288 with 2 Axes>"
            ],
            "image/png": "[encoded data removed]"
          },
          "metadata": {
            "needs_background": "light"
          }
        }
      ]
    },
    {
      "cell_type": "code",
      "source": [
        ""
      ],
      "metadata": {
        "id": "7vOWiBWFa8SZ"
      },
      "execution_count": null,
      "outputs": []
    }
  ]
}